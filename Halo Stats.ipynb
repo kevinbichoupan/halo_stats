{
 "cells": [
  {
   "cell_type": "code",
   "execution_count": 3,
   "metadata": {},
   "outputs": [],
   "source": [
    "import pandas as pd"
   ]
  },
  {
   "cell_type": "code",
   "execution_count": 25,
   "metadata": {},
   "outputs": [],
   "source": [
    "data = pd.read_csv('halo_data.csv')"
   ]
  },
  {
   "cell_type": "code",
   "execution_count": 87,
   "metadata": {},
   "outputs": [],
   "source": [
    "data['kd_spread'] = data['Kills'] - data['Deaths']\n",
    "data['kd_ratio'] = data['Kills']/data['Deaths']\n",
    "data['win_ind'] = 0\n",
    "data['win_ind'].loc[data['Result'] == 'Win'] = 1"
   ]
  },
  {
   "cell_type": "code",
   "execution_count": 157,
   "metadata": {},
   "outputs": [],
   "source": [
    "# Overall Player Stat Generation\n",
    "\n",
    "overall_stats = pd.DataFrame(data.groupby('Player').agg(\n",
    "    total_games = pd.NamedAgg(column = 'Game Number', aggfunc = 'count')\n",
    "    ,total_wins = pd.NamedAgg(column = 'win_ind', aggfunc = sum)\n",
    "    ,total_kills = pd.NamedAgg(column = 'Kills', aggfunc = sum)\n",
    "    ,total_assists = pd.NamedAgg(column = 'Assists', aggfunc = sum)\n",
    "    ,total_deaths = pd.NamedAgg(column = 'Deaths', aggfunc = sum)\n",
    ")).reset_index()\n",
    "\n",
    "overall_stats['Map'] = 'Overall'\n",
    "\n",
    "map_stats = pd.DataFrame(data.groupby(['Player', 'Map']).agg(\n",
    "    total_games = pd.NamedAgg(column = 'Game Number', aggfunc = 'count')\n",
    "    ,total_wins = pd.NamedAgg(column = 'win_ind', aggfunc = sum)\n",
    "    ,total_kills = pd.NamedAgg(column = 'Kills', aggfunc = sum)\n",
    "    ,total_assists = pd.NamedAgg(column = 'Assists', aggfunc = sum)\n",
    "    ,total_deaths = pd.NamedAgg(column = 'Deaths', aggfunc = sum)\n",
    ")).reset_index()\n",
    "\n",
    "cum_all_stats = pd.concat([overall_stats, map_stats], sort=False)\n",
    "\n",
    "cum_all_stats['win_percentage'] = round(cum_all_stats['total_wins'] / cum_all_stats['total_games'] * 100, 1)\n",
    "cum_all_stats['k/d ratio'] = round(cum_all_stats['total_kills'] / cum_all_stats['total_deaths'], 2)\n",
    "cum_all_stats['k/d spread'] = cum_all_stats['total_kills'] - cum_all_stats['total_deaths']\n",
    "cum_all_stats['avg kills per game'] = round(cum_all_stats['total_kills'] / cum_all_stats['total_games'], 1)\n",
    "cum_all_stats['avg assists per game'] = round(cum_all_stats['total_assists'] / cum_all_stats['total_games'], 1)\n",
    "cum_all_stats['avg deaths per game'] = round(cum_all_stats['total_deaths'] / cum_all_stats['total_games'], 1)\n",
    "\n",
    "cum_overall_total_games = cum_all_stats.loc[cum_all_stats['Map'] == 'Overall'][['Player','total_games']].sort_values('total_games', ascending = False).reset_index(drop = True)\n",
    "cum_overall_win = cum_all_stats.loc[cum_all_stats['Map'] == 'Overall'][['Player','total_wins']].sort_values('total_wins', ascending = False).reset_index(drop = True)\n",
    "cum_overall_win_percentage = cum_all_stats.loc[cum_all_stats['Map'] == 'Overall'][['Player','win_percentage']].sort_values('win_percentage', ascending = False).reset_index(drop = True)\n",
    "cum_overall_avg_stats = cum_all_stats.loc[cum_all_stats['Map'] == 'Overall'][['Player', 'avg kills per game', 'avg assists per game', 'avg deaths per game']].sort_values('avg kills per game', ascending = False).reset_index(drop = True)\n",
    "cum_overall_kdratio = cum_all_stats.loc[cum_all_stats['Map'] == 'Overall'][['Player','k/d ratio']].sort_values('k/d ratio', ascending = False).reset_index(drop = True)\n",
    "cum_overall_cumulative = cum_all_stats.loc[cum_all_stats['Map'] == 'Overall'][['Player', 'total_kills', 'total_assists', 'total_deaths', 'k/d spread']].sort_values('total_kills', ascending = False).reset_index(drop = True)\n",
    "\n",
    "cum_overall_dfs = [cum_overall_total_games, cum_overall_win, cum_overall_win_percentage, cum_overall_avg_stats, cum_overall_cumulative, cum_overall_kdratio]\n",
    "\n",
    "for i in cum_overall_dfs:\n",
    "    i.index += 1\n",
    "\n"
   ]
  },
  {
   "cell_type": "code",
   "execution_count": 162,
   "metadata": {},
   "outputs": [],
   "source": [
    "# Recent Player Stat Generation\n",
    "\n",
    "recent_date = data.Date.max()\n",
    "\n",
    "recent_overall_stats = pd.DataFrame(data.loc[data['Date'] == recent_date].groupby('Player').agg(\n",
    "    total_games = pd.NamedAgg(column = 'Game Number', aggfunc = 'count')\n",
    "    ,total_wins = pd.NamedAgg(column = 'win_ind', aggfunc = sum)\n",
    "    ,total_kills = pd.NamedAgg(column = 'Kills', aggfunc = sum)\n",
    "    ,total_assists = pd.NamedAgg(column = 'Assists', aggfunc = sum)\n",
    "    ,total_deaths = pd.NamedAgg(column = 'Deaths', aggfunc = sum)\n",
    ")).reset_index()\n",
    "\n",
    "recent_overall_stats['Map'] = 'Overall'\n",
    "\n",
    "recent_map_stats = pd.DataFrame(data.loc[data['Date'] == recent_date].groupby(['Player', 'Map']).agg(\n",
    "    total_games = pd.NamedAgg(column = 'Game Number', aggfunc = 'count')\n",
    "    ,total_wins = pd.NamedAgg(column = 'win_ind', aggfunc = sum)\n",
    "    ,total_kills = pd.NamedAgg(column = 'Kills', aggfunc = sum)\n",
    "    ,total_assists = pd.NamedAgg(column = 'Assists', aggfunc = sum)\n",
    "    ,total_deaths = pd.NamedAgg(column = 'Deaths', aggfunc = sum)\n",
    ")).reset_index()\n",
    "\n",
    "rec_all_stats = pd.concat([recent_overall_stats, recent_map_stats], sort=False)\n",
    "\n",
    "rec_all_stats['win_percentage'] = round(rec_all_stats['total_wins'] / rec_all_stats['total_games'] * 100, 1)\n",
    "rec_all_stats['k/d ratio'] = round(rec_all_stats['total_kills'] / rec_all_stats['total_deaths'], 2)\n",
    "rec_all_stats['k/d spread'] = rec_all_stats['total_kills'] - rec_all_stats['total_deaths']\n",
    "rec_all_stats['avg kills per game'] = round(rec_all_stats['total_kills'] / rec_all_stats['total_games'], 1)\n",
    "rec_all_stats['avg assists per game'] = round(rec_all_stats['total_assists'] / rec_all_stats['total_games'], 1)\n",
    "rec_all_stats['avg deaths per game'] = round(rec_all_stats['total_deaths'] / rec_all_stats['total_games'], 1)\n",
    "\n",
    "rec_overall_total_games = rec_all_stats.loc[rec_all_stats['Map'] == 'Overall'][['Player','total_games']].sort_values('total_games', ascending = False).reset_index(drop = True)\n",
    "rec_overall_win = rec_all_stats.loc[rec_all_stats['Map'] == 'Overall'][['Player','total_wins']].sort_values('total_wins', ascending = False).reset_index(drop = True)\n",
    "rec_overall_win_percentage = rec_all_stats.loc[rec_all_stats['Map'] == 'Overall'][['Player','win_percentage']].sort_values('win_percentage', ascending = False).reset_index(drop = True)\n",
    "rec_overall_avg_stats = rec_all_stats.loc[rec_all_stats['Map'] == 'Overall'][['Player', 'avg kills per game', 'avg assists per game', 'avg deaths per game']].sort_values('avg kills per game', ascending = False).reset_index(drop = True)\n",
    "rec_overall_kdratio = rec_all_stats.loc[rec_all_stats['Map'] == 'Overall'][['Player','k/d ratio']].sort_values('k/d ratio', ascending = False).reset_index(drop = True)\n",
    "rec_overall_cumulative = rec_all_stats.loc[rec_all_stats['Map'] == 'Overall'][['Player', 'total_kills', 'total_assists', 'total_deaths', 'k/d spread']].sort_values('total_kills', ascending = False).reset_index(drop = True)\n",
    "\n",
    "rec_overall_dfs = [rec_overall_total_games, rec_overall_win, rec_overall_win_percentage, rec_overall_avg_stats, rec_overall_cumulative, rec_overall_kdratio]\n",
    "\n",
    "for i in rec_overall_dfs:\n",
    "    i.index += 1\n",
    "\n"
   ]
  },
  {
   "cell_type": "code",
   "execution_count": 166,
   "metadata": {},
   "outputs": [],
   "source": [
    "# Write Dataframes to Excel\n",
    "\n",
    "writer = pd.ExcelWriter('THE Halo Statline.xlsx', engine = 'xlsxwriter')\n",
    "workbook = writer.book\n",
    "\n",
    "worksheet = workbook.add_worksheet('All Maps Stats')\n",
    "writer.sheets['All Maps Stats'] = worksheet\n",
    "\n",
    "worksheet.write(0, 0, 'Overall Stats -- Cumulative')\n",
    "worksheet.write(1, 1, 'Total Games')\n",
    "cum_overall_total_games.to_excel(writer, sheet_name = 'All Maps Stats', startrow = 2, startcol = 0)\n",
    "worksheet.write(1, 5, 'Total Wins')\n",
    "cum_overall_win.to_excel(writer, sheet_name = 'All Maps Stats', startrow = 2, startcol = 4)\n",
    "worksheet.write(1, 9, 'Win Percentage')\n",
    "cum_overall_win_percentage.to_excel(writer, sheet_name = 'All Maps Stats', startrow = 2, startcol = 8)\n",
    "worksheet.write(1, 13, 'K/D Ratio')\n",
    "cum_overall_kdratio.to_excel(writer, sheet_name = 'All Maps Stats', startrow = 2, startcol = 12)\n",
    "worksheet.write(1, 17, 'Average Stats Per Game')\n",
    "cum_overall_avg_stats.to_excel(writer, sheet_name = 'All Maps Stats', startrow = 2, startcol = 16)\n",
    "worksheet.write(1, 23, 'Cumulative Stats')\n",
    "cum_overall_cumulative.to_excel(writer, sheet_name = 'All Maps Stats', startrow = 2, startcol = 22)\n",
    "\n",
    "vertical_buffer = len(cum_overall_total_games) + 4\n",
    "\n",
    "worksheet.write(0 + vertical_buffer, 0, 'Overall Stats -- Recent Halo Night On ' + recent_date)\n",
    "worksheet.write(1+ vertical_buffer, 1, 'Total Games')\n",
    "rec_overall_total_games.to_excel(writer, sheet_name = 'All Maps Stats', startrow = 2 + vertical_buffer, startcol = 0)\n",
    "worksheet.write(1+ vertical_buffer, 5, 'Total Wins')\n",
    "rec_overall_win.to_excel(writer, sheet_name = 'All Maps Stats', startrow = 2 + vertical_buffer, startcol = 4)\n",
    "worksheet.write(1+ vertical_buffer, 9, 'Win Percentage')\n",
    "rec_overall_win_percentage.to_excel(writer, sheet_name = 'All Maps Stats', startrow = 2 + vertical_buffer, startcol = 8)\n",
    "worksheet.write(1+ vertical_buffer, 13, 'K/D Ratio')\n",
    "rec_overall_kdratio.to_excel(writer, sheet_name = 'All Maps Stats', startrow = 2 + vertical_buffer, startcol = 12)\n",
    "worksheet.write(1+ vertical_buffer, 17, 'Average Stats Per Game')\n",
    "rec_overall_avg_stats.to_excel(writer, sheet_name = 'All Maps Stats', startrow = 2 + vertical_buffer, startcol = 16)\n",
    "worksheet.write(1+ vertical_buffer, 23, 'Cumulative Stats')\n",
    "rec_overall_cumulative.to_excel(writer, sheet_name = 'All Maps Stats', startrow = 2 + vertical_buffer, startcol = 22)\n",
    "\n",
    "\n",
    "writer.save()"
   ]
  },
  {
   "cell_type": "code",
   "execution_count": 164,
   "metadata": {},
   "outputs": [],
   "source": []
  },
  {
   "cell_type": "code",
   "execution_count": 165,
   "metadata": {},
   "outputs": [
    {
     "data": {
      "text/plain": [
       "8"
      ]
     },
     "execution_count": 165,
     "metadata": {},
     "output_type": "execute_result"
    }
   ],
   "source": [
    "x"
   ]
  },
  {
   "cell_type": "code",
   "execution_count": null,
   "metadata": {},
   "outputs": [],
   "source": []
  }
 ],
 "metadata": {
  "kernelspec": {
   "display_name": "Python 3",
   "language": "python",
   "name": "python3"
  },
  "language_info": {
   "codemirror_mode": {
    "name": "ipython",
    "version": 3
   },
   "file_extension": ".py",
   "mimetype": "text/x-python",
   "name": "python",
   "nbconvert_exporter": "python",
   "pygments_lexer": "ipython3",
   "version": "3.7.4"
  }
 },
 "nbformat": 4,
 "nbformat_minor": 2
}
